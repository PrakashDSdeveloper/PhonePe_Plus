{
 "cells": [
  {
   "cell_type": "code",
   "execution_count": 1,
   "id": "b9801475",
   "metadata": {},
   "outputs": [],
   "source": [
    "import pandas as pd\n",
    "import os\n",
    "import json"
   ]
  },
  {
   "cell_type": "code",
   "execution_count": 2,
   "id": "ded3ba93",
   "metadata": {},
   "outputs": [
    {
     "data": {
      "text/plain": [
       "'C:\\\\Guvi_project_files\\\\PhonePeDataVisualization'"
      ]
     },
     "execution_count": 2,
     "metadata": {},
     "output_type": "execute_result"
    }
   ],
   "source": [
    "os.getcwd()"
   ]
  },
  {
   "cell_type": "code",
   "execution_count": 3,
   "id": "6969cf63",
   "metadata": {},
   "outputs": [
    {
     "name": "stdout",
     "output_type": "stream",
     "text": [
      "Requirement already satisfied: mysql-connector-python in c:\\users\\praka\\appdata\\local\\programs\\python\\python311\\lib\\site-packages (8.1.0)\n",
      "Requirement already satisfied: protobuf<=4.21.12,>=4.21.1 in c:\\users\\praka\\appdata\\local\\programs\\python\\python311\\lib\\site-packages (from mysql-connector-python) (4.21.12)\n"
     ]
    },
    {
     "name": "stderr",
     "output_type": "stream",
     "text": [
      "\n",
      "[notice] A new release of pip is available: 23.1.2 -> 23.2.1\n",
      "[notice] To update, run: python.exe -m pip install --upgrade pip\n"
     ]
    },
    {
     "name": "stdout",
     "output_type": "stream",
     "text": [
      "Requirement already satisfied: mysql in c:\\users\\praka\\appdata\\local\\programs\\python\\python311\\lib\\site-packages (0.0.3)\n",
      "Requirement already satisfied: mysqlclient in c:\\users\\praka\\appdata\\local\\programs\\python\\python311\\lib\\site-packages (from mysql) (2.2.0)\n"
     ]
    },
    {
     "name": "stderr",
     "output_type": "stream",
     "text": [
      "\n",
      "[notice] A new release of pip is available: 23.1.2 -> 23.2.1\n",
      "[notice] To update, run: python.exe -m pip install --upgrade pip\n"
     ]
    }
   ],
   "source": [
    "!pip install mysql-connector-python\n",
    "!pip install mysql"
   ]
  },
  {
   "cell_type": "code",
   "execution_count": 4,
   "id": "352200cd",
   "metadata": {},
   "outputs": [],
   "source": [
    "file_path = 'C:\\\\Guvi_project_files\\\\PhonePeDataVisualization\\\\pulse\\\\data\\\\aggregated\\\\user\\\\country\\\\india\\\\state'\n",
    "agg_dir = os.listdir(file_path)\n",
    "header_1 = {'State': [],'Year': [],'Brands': [],'Count': [],'Percentage': []}\n",
    "states =[]\n",
    "for state in agg_dir:\n",
    "    states.append(state)\n",
    "    indian_states =  file_path + '/' + state +'/'\n",
    "    agg_dir_state = os.listdir(indian_states)\n",
    "    for year in agg_dir_state:\n",
    "        resp_year = indian_states + year + '/'\n",
    "        agg_dir_state_year = os.listdir(resp_year)\n",
    "        for files in agg_dir_state_year:\n",
    "            datas = resp_year+files\n",
    "            f = open(datas,'r')\n",
    "            A = json.load(f)\n",
    "            try:\n",
    "                for result in A['data']['usersByDevice']:\n",
    "                    brand = result['brand']\n",
    "                    count = result['count']\n",
    "                    percentage = result['percentage']\n",
    "                    header_1['State'].append(state)\n",
    "                    header_1['Year'].append(year)\n",
    "                    header_1['Brands'].append(brand)\n",
    "                    header_1['Count'].append(count)\n",
    "                    header_1['Percentage'].append(percentage)\n",
    "            except:\n",
    "                pass"
   ]
  },
  {
   "cell_type": "code",
   "execution_count": 5,
   "id": "75f21120",
   "metadata": {},
   "outputs": [],
   "source": [
    "data_aggregated_user = pd.DataFrame(header_1)"
   ]
  },
  {
   "cell_type": "code",
   "execution_count": 7,
   "id": "bcf1b1ea",
   "metadata": {},
   "outputs": [],
   "source": [
    "data_aggregated_user.to_csv('data_aggregated_user.csv')"
   ]
  },
  {
   "cell_type": "code",
   "execution_count": 7,
   "id": "c27b9606",
   "metadata": {},
   "outputs": [],
   "source": [
    "file_path = 'C:\\\\Guvi_project_files\\\\PhonePeDataVisualization\\\\pulse\\\\data\\\\map\\\\transaction\\\\hover\\\\country\\\\india\\\\state'\n",
    "agg_dir = os.listdir(file_path)\n",
    "header_2 = {'State': [], 'Year': [],'District Name': [],'Count': [],'Amount': []}\n",
    "for state in agg_dir:\n",
    "    indian_states =  file_path + '/' + state +'/'\n",
    "    agg_dir_state = os.listdir(indian_states)\n",
    "    for year in agg_dir_state:\n",
    "        resp_year = indian_states + year + '/'\n",
    "        agg_dir_state_year = os.listdir(resp_year)\n",
    "        for files in agg_dir_state_year:\n",
    "            datas = resp_year+files\n",
    "            f = open(datas,'r')\n",
    "            A = json.load(f)\n",
    "            try:\n",
    "                for result in A['data']['hoverDataList']:\n",
    "                    district = result['name']\n",
    "                    count = result['metric'][0]['count']\n",
    "                    amount = result['metric'][0]['amount']\n",
    "                    header_2['State'].append(state)\n",
    "                    header_2['Year'].append(year)\n",
    "                    header_2['District Name'].append(district)\n",
    "                    header_2['Count'].append(count)\n",
    "                    header_2['Amount'].append(amount)\n",
    "            except:\n",
    "                pass"
   ]
  },
  {
   "cell_type": "code",
   "execution_count": 8,
   "id": "016bd75e",
   "metadata": {},
   "outputs": [],
   "source": [
    "data_map_transaction = pd.DataFrame(header_2)"
   ]
  },
  {
   "cell_type": "code",
   "execution_count": 10,
   "id": "41be713b",
   "metadata": {},
   "outputs": [],
   "source": [
    "data_map_transaction.to_csv('data_map_transaction.csv')"
   ]
  },
  {
   "cell_type": "code",
   "execution_count": 10,
   "id": "5ad8dece",
   "metadata": {},
   "outputs": [],
   "source": [
    "file_path = 'C:\\\\Guvi_project_files\\\\PhonePeDataVisualization\\\\pulse\\\\data\\\\aggregated\\\\transaction\\\\country\\\\india\\\\state'\n",
    "agg_dir = os.listdir(file_path)\n",
    "header_3 = {'State': [], 'Year': [],'Mode_of_Transaction': [],'Count': [],'Amount': []}\n",
    "for state in agg_dir:\n",
    "    indian_states =  file_path + '/' + state +'/'\n",
    "    agg_dir_state = os.listdir(indian_states)\n",
    "    for year in agg_dir_state:\n",
    "        resp_year = indian_states + year + '/'\n",
    "        agg_dir_state_year = os.listdir(resp_year)\n",
    "        for files in agg_dir_state_year:\n",
    "            datas = resp_year+files\n",
    "            f = open(datas)\n",
    "            A = json.load(f)\n",
    "            for result in A['data']['transactionData']:\n",
    "                mode = result['name']\n",
    "                count = result['paymentInstruments'][0]['count']\n",
    "                amount = result['paymentInstruments'][0]['amount']\n",
    "                header_3['State'].append(state)\n",
    "                header_3['Year'].append(year)\n",
    "                header_3['Mode_of_Transaction'].append(mode)\n",
    "                header_3['Count'].append(count)\n",
    "                header_3['Amount'].append(amount)"
   ]
  },
  {
   "cell_type": "code",
   "execution_count": 11,
   "id": "e906bb34",
   "metadata": {},
   "outputs": [],
   "source": [
    "data_aggregated_transaction = pd.DataFrame(header_3)"
   ]
  },
  {
   "cell_type": "code",
   "execution_count": 13,
   "id": "2d3d182e",
   "metadata": {},
   "outputs": [],
   "source": [
    "data_aggregated_transaction.to_csv('data_aggregated_transaction.csv')"
   ]
  },
  {
   "cell_type": "code",
   "execution_count": 13,
   "id": "ca9d8937",
   "metadata": {},
   "outputs": [],
   "source": [
    "file_path = 'C:\\\\Guvi_project_files\\\\PhonePeDataVisualization\\\\pulse\\\\data\\\\map\\\\user\\\\hover\\\\country\\\\india\\\\state'\n",
    "map_user = os.listdir(file_path)\n",
    "header_4 = {'State' : [],'Year':[],'DisTrict_name' :[],'Register_user':[],'AppOpens' :[]}\n",
    "for state in map_user:\n",
    "    user_state =  file_path + '/' + state\n",
    "    map_user_state = os.listdir(user_state)\n",
    "    for year in map_user_state:\n",
    "        map_user_state_year = file_path + '/' + state + '/'+ year + '/'\n",
    "        user_state_year_wise_detail = os.listdir(map_user_state_year)\n",
    "        for files in user_state_year_wise_detail:\n",
    "            file_detail = map_user_state_year+files\n",
    "            json_file = open(file_detail)\n",
    "            json_data = json.load(json_file)\n",
    "            for a in json_data['data']['hoverData'].items():\n",
    "                district = a[0]\n",
    "                registeruser = a[1]['registeredUsers']\n",
    "                appOpens = a[1]['appOpens']\n",
    "                header_4['State'].append(state)\n",
    "                header_4['Year'].append(year)\n",
    "                header_4['DisTrict_name'].append(district)\n",
    "                header_4['Register_user'].append(registeruser)\n",
    "                header_4['AppOpens'].append(appOpens)"
   ]
  },
  {
   "cell_type": "code",
   "execution_count": 14,
   "id": "b4c81677",
   "metadata": {},
   "outputs": [],
   "source": [
    "data_map_user = pd.DataFrame(header_4)"
   ]
  },
  {
   "cell_type": "code",
   "execution_count": 16,
   "id": "f3a987e1",
   "metadata": {},
   "outputs": [],
   "source": [
    "data_map_user.to_csv('data_map_user.csv')"
   ]
  },
  {
   "cell_type": "code",
   "execution_count": 16,
   "id": "61e43d08",
   "metadata": {},
   "outputs": [],
   "source": [
    "file_path = 'C:\\\\Guvi_project_files\\\\PhonePeDataVisualization\\\\pulse\\\\data\\\\top\\\\transaction\\\\country\\\\india\\\\state'\n",
    "top_trans = os.listdir(file_path)\n",
    "header_5_A = {'State':[],'Year':[],'District':[],'Count':[],'Amount':[]}\n",
    "for state in top_trans:\n",
    "    top_state =  file_path + '/'+ state + '/'\n",
    "    top_trans_with_state = os.listdir(top_state)\n",
    "    for year in top_trans_with_state:\n",
    "        top_state_trans = top_state + year\n",
    "        topstate_trans_returns = os.listdir(top_state_trans)\n",
    "        for files in topstate_trans_returns:\n",
    "            file_details = top_state_trans+'/' + files\n",
    "            json_details = open(file_details)\n",
    "            json_data = json.load(json_details)\n",
    "            for i in json_data['data']['districts']:\n",
    "                district = i['entityName']\n",
    "                count = i['metric']['count']\n",
    "                amount = i['metric']['amount']\n",
    "                header_5_A['State'].append(state)\n",
    "                header_5_A['Year'].append(year)\n",
    "                header_5_A['District'].append(district)\n",
    "                header_5_A['Count'].append(count)\n",
    "                header_5_A['Amount'].append(amount)"
   ]
  },
  {
   "cell_type": "code",
   "execution_count": 17,
   "id": "bfe57ed5",
   "metadata": {},
   "outputs": [],
   "source": [
    "data_top_trans_district = pd.DataFrame(header_5_A)"
   ]
  },
  {
   "cell_type": "code",
   "execution_count": 19,
   "id": "a64cc5f6",
   "metadata": {},
   "outputs": [],
   "source": [
    "data_top_trans_district.to_csv('data_top_trans_district.csv')"
   ]
  },
  {
   "cell_type": "code",
   "execution_count": 19,
   "id": "37e347e4",
   "metadata": {},
   "outputs": [],
   "source": [
    "file_path = 'C:\\\\Guvi_project_files\\\\PhonePeDataVisualization\\\\pulse\\\\data\\\\top\\\\transaction\\\\country\\\\india\\\\state'\n",
    "top_trans = os.listdir(file_path)\n",
    "header_5_B = {'State':[],'Year':[],'District':[],'Count':[],'Amount':[]}\n",
    "for state in top_trans:\n",
    "    top_state =  file_path + '/'+ state + '/'\n",
    "    top_trans_with_state = os.listdir(top_state)\n",
    "    for year in top_trans_with_state:\n",
    "        top_state_trans = top_state + year\n",
    "        topstate_trans_returns = os.listdir(top_state_trans)\n",
    "        for files in topstate_trans_returns:\n",
    "            file_details = top_state_trans+'/' + files\n",
    "            json_details = open(file_details)\n",
    "            json_data = json.load(json_details)\n",
    "            for i in json_data['data']['pincodes']:\n",
    "                pincode = i['entityName']\n",
    "                count = i['metric']['count']\n",
    "                amount = i['metric']['amount']\n",
    "                header_5_B['State'].append(state)\n",
    "                header_5_B['Year'].append(year)\n",
    "                header_5_B['District'].append(district)\n",
    "                header_5_B['Count'].append(count)\n",
    "                header_5_B['Amount'].append(amount)"
   ]
  },
  {
   "cell_type": "code",
   "execution_count": 21,
   "id": "485d0eb1",
   "metadata": {},
   "outputs": [],
   "source": [
    "data_top_trans_pincode = pd.DataFrame(header_5_B)"
   ]
  },
  {
   "cell_type": "code",
   "execution_count": 22,
   "id": "8d26d6ae",
   "metadata": {},
   "outputs": [],
   "source": [
    "data_top_trans_pincode.to_csv('data_top_trans_pincode.csv')"
   ]
  },
  {
   "cell_type": "code",
   "execution_count": 23,
   "id": "0bca3872",
   "metadata": {},
   "outputs": [],
   "source": [
    "file_path = 'C:\\\\Guvi_project_files\\\\PhonePeDataVisualization\\\\pulse\\\\data\\\\top\\\\user\\\\country\\\\india\\\\state'\n",
    "data_top_user = os.listdir(file_path)\n",
    "header_6_A = {'State':[],'Year':[],'District':[],'RegisteredUser':[]}\n",
    "for state in data_top_user:\n",
    "    states = file_path + '/' + state + '/'\n",
    "    data_top_user_state = os.listdir(states)\n",
    "    for year in data_top_user_state:\n",
    "        years = states + year\n",
    "        datatop_user_state_year = os.listdir(years)\n",
    "        for files in datatop_user_state_year:\n",
    "            json_details = years + '/'+ files\n",
    "            json_file = open(json_details)\n",
    "            json_data = json.load(json_file)\n",
    "            for i in json_data['data']['districts']:\n",
    "                district = i['name']\n",
    "                resgistereduser = i['registeredUsers']\n",
    "                header_6_A['State'].append(state)\n",
    "                header_6_A['Year'].append(year)\n",
    "                header_6_A['District'].append(district)\n",
    "                header_6_A['RegisteredUser'].append(resgistereduser)"
   ]
  },
  {
   "cell_type": "code",
   "execution_count": 25,
   "id": "3735160c",
   "metadata": {},
   "outputs": [],
   "source": [
    "data_top_user_district = pd.DataFrame(header_6_A)"
   ]
  },
  {
   "cell_type": "code",
   "execution_count": 25,
   "id": "63948cc1",
   "metadata": {},
   "outputs": [],
   "source": [
    "data_top_user_district.to_csv('data_top_user_district.csv')"
   ]
  },
  {
   "cell_type": "code",
   "execution_count": 28,
   "id": "454c9b22",
   "metadata": {},
   "outputs": [],
   "source": [
    "file_path = 'C:\\\\Guvi_project_files\\\\PhonePeDataVisualization\\\\pulse\\\\data\\\\top\\\\user\\\\country\\\\india\\\\state'\n",
    "data_top_user = os.listdir(file_path)\n",
    "header_6_B = {'State':[],'Year':[],'Pincode':[],'RegisteredUser':[]}\n",
    "for state in data_top_user:\n",
    "    states = file_path + '/' + state + '/'\n",
    "    data_top_user_state = os.listdir(states)\n",
    "    for year in data_top_user_state:\n",
    "        years = states + year\n",
    "        datatop_user_state_year = os.listdir(years)\n",
    "        for files in datatop_user_state_year:\n",
    "            json_details = years + '/'+ files\n",
    "            json_file = open(json_details)\n",
    "            json_data = json.load(json_file)\n",
    "            for i in json_data['data']['pincodes']:\n",
    "                district = i['name']\n",
    "                resgistereduser = i['registeredUsers']\n",
    "                header_6_B['State'].append(state)\n",
    "                header_6_B['Year'].append(year)\n",
    "                header_6_B['Pincode'].append(district)\n",
    "                header_6_B['RegisteredUser'].append(resgistereduser)"
   ]
  },
  {
   "cell_type": "code",
   "execution_count": 29,
   "id": "1740a95a",
   "metadata": {},
   "outputs": [],
   "source": [
    "data_top_user_pincode = pd.DataFrame(header_6_B)"
   ]
  },
  {
   "cell_type": "code",
   "execution_count": 28,
   "id": "5ab2c7ee",
   "metadata": {},
   "outputs": [],
   "source": [
    "data_top_user_pincode.to_csv('data_top_user_pincode.csv')"
   ]
  },
  {
   "cell_type": "code",
   "execution_count": 31,
   "id": "37722d8d",
   "metadata": {},
   "outputs": [],
   "source": [
    "import mysql.connector"
   ]
  },
  {
   "cell_type": "code",
   "execution_count": 32,
   "id": "6a9cc308",
   "metadata": {},
   "outputs": [],
   "source": [
    "my_connection = mysql.connector.connect(host = 'localhost',user = 'root',password='1234')"
   ]
  },
  {
   "cell_type": "code",
   "execution_count": 33,
   "id": "f2db5e9d",
   "metadata": {},
   "outputs": [],
   "source": [
    "mycursor = my_connection.cursor()"
   ]
  },
  {
   "cell_type": "code",
   "execution_count": 145,
   "id": "fa1b1dcb",
   "metadata": {
    "collapsed": true
   },
   "outputs": [
    {
     "ename": "DatabaseError",
     "evalue": "1007 (HY000): Can't create database 'phonepe_pulse_db'; database exists",
     "output_type": "error",
     "traceback": [
      "\u001b[1;31m---------------------------------------------------------------------------\u001b[0m",
      "\u001b[1;31mMySQLInterfaceError\u001b[0m                       Traceback (most recent call last)",
      "File \u001b[1;32m~\\AppData\\Local\\Programs\\Python\\Python311\\Lib\\site-packages\\mysql\\connector\\connection_cext.py:633\u001b[0m, in \u001b[0;36mCMySQLConnection.cmd_query\u001b[1;34m(self, query, raw, buffered, raw_as_string)\u001b[0m\n\u001b[0;32m    632\u001b[0m         query \u001b[38;5;241m=\u001b[39m query\u001b[38;5;241m.\u001b[39mencode(\u001b[38;5;124m\"\u001b[39m\u001b[38;5;124mutf-8\u001b[39m\u001b[38;5;124m\"\u001b[39m)\n\u001b[1;32m--> 633\u001b[0m     \u001b[38;5;28;43mself\u001b[39;49m\u001b[38;5;241;43m.\u001b[39;49m\u001b[43m_cmysql\u001b[49m\u001b[38;5;241;43m.\u001b[39;49m\u001b[43mquery\u001b[49m\u001b[43m(\u001b[49m\n\u001b[0;32m    634\u001b[0m \u001b[43m        \u001b[49m\u001b[43mquery\u001b[49m\u001b[43m,\u001b[49m\n\u001b[0;32m    635\u001b[0m \u001b[43m        \u001b[49m\u001b[43mraw\u001b[49m\u001b[38;5;241;43m=\u001b[39;49m\u001b[43mraw\u001b[49m\u001b[43m,\u001b[49m\n\u001b[0;32m    636\u001b[0m \u001b[43m        \u001b[49m\u001b[43mbuffered\u001b[49m\u001b[38;5;241;43m=\u001b[39;49m\u001b[43mbuffered\u001b[49m\u001b[43m,\u001b[49m\n\u001b[0;32m    637\u001b[0m \u001b[43m        \u001b[49m\u001b[43mraw_as_string\u001b[49m\u001b[38;5;241;43m=\u001b[39;49m\u001b[43mraw_as_string\u001b[49m\u001b[43m,\u001b[49m\n\u001b[0;32m    638\u001b[0m \u001b[43m        \u001b[49m\u001b[43mquery_attrs\u001b[49m\u001b[38;5;241;43m=\u001b[39;49m\u001b[38;5;28;43mself\u001b[39;49m\u001b[38;5;241;43m.\u001b[39;49m\u001b[43mquery_attrs\u001b[49m\u001b[43m,\u001b[49m\n\u001b[0;32m    639\u001b[0m \u001b[43m    \u001b[49m\u001b[43m)\u001b[49m\n\u001b[0;32m    640\u001b[0m \u001b[38;5;28;01mexcept\u001b[39;00m MySQLInterfaceError \u001b[38;5;28;01mas\u001b[39;00m err:\n",
      "\u001b[1;31mMySQLInterfaceError\u001b[0m: Can't create database 'phonepe_pulse_db'; database exists",
      "\nThe above exception was the direct cause of the following exception:\n",
      "\u001b[1;31mDatabaseError\u001b[0m                             Traceback (most recent call last)",
      "Cell \u001b[1;32mIn[145], line 1\u001b[0m\n\u001b[1;32m----> 1\u001b[0m \u001b[43mmycursor\u001b[49m\u001b[38;5;241;43m.\u001b[39;49m\u001b[43mexecute\u001b[49m\u001b[43m(\u001b[49m\u001b[38;5;124;43m'\u001b[39;49m\u001b[38;5;124;43mcreate database PhonePe_Pulse_DB\u001b[39;49m\u001b[38;5;124;43m'\u001b[39;49m\u001b[43m)\u001b[49m\n",
      "File \u001b[1;32m~\\AppData\\Local\\Programs\\Python\\Python311\\Lib\\site-packages\\mysql\\connector\\cursor_cext.py:330\u001b[0m, in \u001b[0;36mCMySQLCursor.execute\u001b[1;34m(self, operation, params, multi)\u001b[0m\n\u001b[0;32m    325\u001b[0m             \u001b[38;5;28;01mraise\u001b[39;00m ProgrammingError(\n\u001b[0;32m    326\u001b[0m                 \u001b[38;5;124m\"\u001b[39m\u001b[38;5;124mNot all parameters were used in the SQL statement\u001b[39m\u001b[38;5;124m\"\u001b[39m\n\u001b[0;32m    327\u001b[0m             )\n\u001b[0;32m    329\u001b[0m \u001b[38;5;28;01mtry\u001b[39;00m:\n\u001b[1;32m--> 330\u001b[0m     result \u001b[38;5;241m=\u001b[39m \u001b[38;5;28;43mself\u001b[39;49m\u001b[38;5;241;43m.\u001b[39;49m\u001b[43m_cnx\u001b[49m\u001b[38;5;241;43m.\u001b[39;49m\u001b[43mcmd_query\u001b[49m\u001b[43m(\u001b[49m\n\u001b[0;32m    331\u001b[0m \u001b[43m        \u001b[49m\u001b[43mstmt\u001b[49m\u001b[43m,\u001b[49m\n\u001b[0;32m    332\u001b[0m \u001b[43m        \u001b[49m\u001b[43mraw\u001b[49m\u001b[38;5;241;43m=\u001b[39;49m\u001b[38;5;28;43mself\u001b[39;49m\u001b[38;5;241;43m.\u001b[39;49m\u001b[43m_raw\u001b[49m\u001b[43m,\u001b[49m\n\u001b[0;32m    333\u001b[0m \u001b[43m        \u001b[49m\u001b[43mbuffered\u001b[49m\u001b[38;5;241;43m=\u001b[39;49m\u001b[38;5;28;43mself\u001b[39;49m\u001b[38;5;241;43m.\u001b[39;49m\u001b[43m_buffered\u001b[49m\u001b[43m,\u001b[49m\n\u001b[0;32m    334\u001b[0m \u001b[43m        \u001b[49m\u001b[43mraw_as_string\u001b[49m\u001b[38;5;241;43m=\u001b[39;49m\u001b[38;5;28;43mself\u001b[39;49m\u001b[38;5;241;43m.\u001b[39;49m\u001b[43m_raw_as_string\u001b[49m\u001b[43m,\u001b[49m\n\u001b[0;32m    335\u001b[0m \u001b[43m    \u001b[49m\u001b[43m)\u001b[49m\n\u001b[0;32m    336\u001b[0m \u001b[38;5;28;01mexcept\u001b[39;00m MySQLInterfaceError \u001b[38;5;28;01mas\u001b[39;00m err:\n\u001b[0;32m    337\u001b[0m     \u001b[38;5;28;01mraise\u001b[39;00m get_mysql_exception(\n\u001b[0;32m    338\u001b[0m         msg\u001b[38;5;241m=\u001b[39merr\u001b[38;5;241m.\u001b[39mmsg, errno\u001b[38;5;241m=\u001b[39merr\u001b[38;5;241m.\u001b[39merrno, sqlstate\u001b[38;5;241m=\u001b[39merr\u001b[38;5;241m.\u001b[39msqlstate\n\u001b[0;32m    339\u001b[0m     ) \u001b[38;5;28;01mfrom\u001b[39;00m \u001b[38;5;21;01merr\u001b[39;00m\n",
      "File \u001b[1;32m~\\AppData\\Local\\Programs\\Python\\Python311\\Lib\\site-packages\\mysql\\connector\\opentelemetry\\context_propagation.py:77\u001b[0m, in \u001b[0;36mwith_context_propagation.<locals>.wrapper\u001b[1;34m(cnx, *args, **kwargs)\u001b[0m\n\u001b[0;32m     75\u001b[0m \u001b[38;5;250m\u001b[39m\u001b[38;5;124;03m\"\"\"Context propagation decorator.\"\"\"\u001b[39;00m\n\u001b[0;32m     76\u001b[0m \u001b[38;5;28;01mif\u001b[39;00m \u001b[38;5;129;01mnot\u001b[39;00m OTEL_ENABLED \u001b[38;5;129;01mor\u001b[39;00m \u001b[38;5;129;01mnot\u001b[39;00m cnx\u001b[38;5;241m.\u001b[39motel_context_propagation:\n\u001b[1;32m---> 77\u001b[0m     \u001b[38;5;28;01mreturn\u001b[39;00m \u001b[43mmethod\u001b[49m\u001b[43m(\u001b[49m\u001b[43mcnx\u001b[49m\u001b[43m,\u001b[49m\u001b[43m \u001b[49m\u001b[38;5;241;43m*\u001b[39;49m\u001b[43margs\u001b[49m\u001b[43m,\u001b[49m\u001b[43m \u001b[49m\u001b[38;5;241;43m*\u001b[39;49m\u001b[38;5;241;43m*\u001b[39;49m\u001b[43mkwargs\u001b[49m\u001b[43m)\u001b[49m\n\u001b[0;32m     79\u001b[0m current_span \u001b[38;5;241m=\u001b[39m trace\u001b[38;5;241m.\u001b[39mget_current_span()\n\u001b[0;32m     80\u001b[0m tp_header \u001b[38;5;241m=\u001b[39m \u001b[38;5;28;01mNone\u001b[39;00m\n",
      "File \u001b[1;32m~\\AppData\\Local\\Programs\\Python\\Python311\\Lib\\site-packages\\mysql\\connector\\connection_cext.py:641\u001b[0m, in \u001b[0;36mCMySQLConnection.cmd_query\u001b[1;34m(self, query, raw, buffered, raw_as_string)\u001b[0m\n\u001b[0;32m    633\u001b[0m     \u001b[38;5;28mself\u001b[39m\u001b[38;5;241m.\u001b[39m_cmysql\u001b[38;5;241m.\u001b[39mquery(\n\u001b[0;32m    634\u001b[0m         query,\n\u001b[0;32m    635\u001b[0m         raw\u001b[38;5;241m=\u001b[39mraw,\n\u001b[1;32m   (...)\u001b[0m\n\u001b[0;32m    638\u001b[0m         query_attrs\u001b[38;5;241m=\u001b[39m\u001b[38;5;28mself\u001b[39m\u001b[38;5;241m.\u001b[39mquery_attrs,\n\u001b[0;32m    639\u001b[0m     )\n\u001b[0;32m    640\u001b[0m \u001b[38;5;28;01mexcept\u001b[39;00m MySQLInterfaceError \u001b[38;5;28;01mas\u001b[39;00m err:\n\u001b[1;32m--> 641\u001b[0m     \u001b[38;5;28;01mraise\u001b[39;00m get_mysql_exception(\n\u001b[0;32m    642\u001b[0m         err\u001b[38;5;241m.\u001b[39merrno, msg\u001b[38;5;241m=\u001b[39merr\u001b[38;5;241m.\u001b[39mmsg, sqlstate\u001b[38;5;241m=\u001b[39merr\u001b[38;5;241m.\u001b[39msqlstate\n\u001b[0;32m    643\u001b[0m     ) \u001b[38;5;28;01mfrom\u001b[39;00m \u001b[38;5;21;01merr\u001b[39;00m\n\u001b[0;32m    644\u001b[0m \u001b[38;5;28;01mexcept\u001b[39;00m \u001b[38;5;167;01mAttributeError\u001b[39;00m \u001b[38;5;28;01mas\u001b[39;00m err:\n\u001b[0;32m    645\u001b[0m     addr \u001b[38;5;241m=\u001b[39m (\n\u001b[0;32m    646\u001b[0m         \u001b[38;5;28mself\u001b[39m\u001b[38;5;241m.\u001b[39m_unix_socket \u001b[38;5;28;01mif\u001b[39;00m \u001b[38;5;28mself\u001b[39m\u001b[38;5;241m.\u001b[39m_unix_socket \u001b[38;5;28;01melse\u001b[39;00m \u001b[38;5;124mf\u001b[39m\u001b[38;5;124m\"\u001b[39m\u001b[38;5;132;01m{\u001b[39;00m\u001b[38;5;28mself\u001b[39m\u001b[38;5;241m.\u001b[39m_host\u001b[38;5;132;01m}\u001b[39;00m\u001b[38;5;124m:\u001b[39m\u001b[38;5;132;01m{\u001b[39;00m\u001b[38;5;28mself\u001b[39m\u001b[38;5;241m.\u001b[39m_port\u001b[38;5;132;01m}\u001b[39;00m\u001b[38;5;124m\"\u001b[39m\n\u001b[0;32m    647\u001b[0m     )\n",
      "\u001b[1;31mDatabaseError\u001b[0m: 1007 (HY000): Can't create database 'phonepe_pulse_db'; database exists"
     ]
    }
   ],
   "source": [
    "mycursor.execute('create database PhonePe_Pulse_DB')"
   ]
  },
  {
   "cell_type": "code",
   "execution_count": 34,
   "id": "dbf78772",
   "metadata": {},
   "outputs": [],
   "source": [
    "mycursor.execute('use PhonePe_Pulse_DB')"
   ]
  },
  {
   "cell_type": "code",
   "execution_count": 142,
   "id": "f8f622c9",
   "metadata": {},
   "outputs": [],
   "source": [
    "mycursor.execute('create table Aggregated_user(State varchar(50),Year varchar(50),Brands varchar(50),Count varchar(50),Percentage varchar(50))')"
   ]
  },
  {
   "cell_type": "code",
   "execution_count": 31,
   "id": "578b5744",
   "metadata": {},
   "outputs": [
    {
     "name": "stdout",
     "output_type": "stream",
     "text": [
      "Dius ['lakshadweep', 'mizoram', 'andaman-&-nicobar-islands', 'ladakh', 'sikkim', 'meghalaya', 'nagaland', 'dadra-&-nagar-haveli-&-daman-&-diu', 'tripura', 'arunachal-pradesh', 'puducherry', 'manipur', 'goa', 'chandigarh', 'himachal-pradesh', 'jammu-&-kashmir', 'uttarakhand', 'assam', 'punjab', 'kerala', 'chhattisgarh', 'jharkhand', 'haryana', 'gujarat', 'odisha', 'tamil-nadu', 'west-bengal', 'delhi', 'bihar', 'madhya-pradesh', 'uttar-pradesh', 'rajasthan', 'andhra-pradesh', 'karnataka', 'maharashtra', 'telangana']\n",
      "Count [166804, 5796340, 7747331, 7123601, 18750367, 20197849, 17180851, 43966520, 32364668, 27274484, 59384639, 45147601, 98849639, 90820816, 170818031, 164904607, 440122775, 528422472, 582273955, 822459542, 941074354, 1008027640, 1870596824, 2052224247, 2561254352, 2742806151, 2687915807, 3274904754, 2745429444, 4463695860, 4636625871, 5130073858, 5321987775, 9570042576, 10389479956, 9143814959]\n",
      "Amot [495222951, 17494078054, 18994709086, 23042534353, 42941467442, 47703059453, 48933677248, 57343059311, 63058503423, 70543242969, 99110061596, 118933382882, 160566288631, 160799555158, 284699619220, 344701121864, 699176537087, 1100828258045, 1164042246844, 1228493669465, 1468349999500, 1706199321996, 3264982489119, 3625037788890, 4087671271594, 4700872137057, 4969909303386, 5111844076155, 5649345088706, 7026999292814, 8179116124944, 9110359753665, 11584751709187, 13874332400299, 14771332714776, 16522924338545]\n"
     ]
    }
   ],
   "source": [
    "query = mycursor.execute('select State, sum(Count) as Total_Transactions_Count, sum(Amount) as Amount from map_transaction where Year group by State order by Amount')\n",
    "datas = mycursor.fetchall()\n",
    "district = []\n",
    "counts =[]\n",
    "amounts = []\n",
    "for data in datas:\n",
    "    district.append(data[0])\n",
    "    counts.append(int(data[1]))\n",
    "    amounts.append(int(data[2]))\n",
    "print('Dius',district)\n",
    "print('Count',counts)\n",
    "print('Amot',amounts)"
   ]
  },
  {
   "cell_type": "code",
   "execution_count": 144,
   "id": "68aa0fc1",
   "metadata": {},
   "outputs": [],
   "source": [
    "for i,data in data_aggregated_user.iterrows():\n",
    "    sql_insert = 'INSERT INTO Aggregated_user(State,Year,Brands,Count,Percentage) VALUES(%s,%s,%s,%s,%s)'\n",
    "    mycursor.execute(sql_insert,tuple(data))\n",
    "    my_connection.commit()"
   ]
  },
  {
   "cell_type": "code",
   "execution_count": 150,
   "id": "3ac1e26b",
   "metadata": {},
   "outputs": [],
   "source": [
    "mycursor.execute('create table map_transaction(State varchar(50),Year varchar(50),District_Name varchar(50),Count varchar(50),Amount varchar(50))')"
   ]
  },
  {
   "cell_type": "code",
   "execution_count": 152,
   "id": "3ed7fed9",
   "metadata": {},
   "outputs": [],
   "source": [
    "for i,data in data_map_transaction.iterrows():\n",
    "    sql_insert = 'INSERT INTO map_transaction(State,Year,District_Name,Count,Amount) VALUES(%s,%s,%s,%s,%s)'\n",
    "    mycursor.execute(sql_insert,tuple(data))\n",
    "    my_connection.commit()"
   ]
  },
  {
   "cell_type": "code",
   "execution_count": 155,
   "id": "1b3b9324",
   "metadata": {},
   "outputs": [],
   "source": [
    "mycursor.execute('create table aggregated_transaction(State varchar(50),Year varchar(50),Mode varchar(50),Count varchar(50),Amount varchar(50))')"
   ]
  },
  {
   "cell_type": "code",
   "execution_count": 156,
   "id": "3b19dac0",
   "metadata": {},
   "outputs": [],
   "source": [
    "for i,data in data_aggregated_transaction.iterrows():\n",
    "    sql_insert = 'INSERT INTO aggregated_transaction(State,Year,Mode,Count,Amount) VALUES(%s,%s,%s,%s,%s)'\n",
    "    mycursor.execute(sql_insert,tuple(data))\n",
    "    my_connection.commit()\n",
    "    "
   ]
  },
  {
   "cell_type": "code",
   "execution_count": 162,
   "id": "08db05c3",
   "metadata": {
    "collapsed": true
   },
   "outputs": [
    {
     "ename": "ProgrammingError",
     "evalue": "1050 (42S01): Table 'map_user' already exists",
     "output_type": "error",
     "traceback": [
      "\u001b[1;31m---------------------------------------------------------------------------\u001b[0m",
      "\u001b[1;31mMySQLInterfaceError\u001b[0m                       Traceback (most recent call last)",
      "File \u001b[1;32m~\\AppData\\Local\\Programs\\Python\\Python311\\Lib\\site-packages\\mysql\\connector\\connection_cext.py:633\u001b[0m, in \u001b[0;36mCMySQLConnection.cmd_query\u001b[1;34m(self, query, raw, buffered, raw_as_string)\u001b[0m\n\u001b[0;32m    632\u001b[0m         query \u001b[38;5;241m=\u001b[39m query\u001b[38;5;241m.\u001b[39mencode(\u001b[38;5;124m\"\u001b[39m\u001b[38;5;124mutf-8\u001b[39m\u001b[38;5;124m\"\u001b[39m)\n\u001b[1;32m--> 633\u001b[0m     \u001b[38;5;28;43mself\u001b[39;49m\u001b[38;5;241;43m.\u001b[39;49m\u001b[43m_cmysql\u001b[49m\u001b[38;5;241;43m.\u001b[39;49m\u001b[43mquery\u001b[49m\u001b[43m(\u001b[49m\n\u001b[0;32m    634\u001b[0m \u001b[43m        \u001b[49m\u001b[43mquery\u001b[49m\u001b[43m,\u001b[49m\n\u001b[0;32m    635\u001b[0m \u001b[43m        \u001b[49m\u001b[43mraw\u001b[49m\u001b[38;5;241;43m=\u001b[39;49m\u001b[43mraw\u001b[49m\u001b[43m,\u001b[49m\n\u001b[0;32m    636\u001b[0m \u001b[43m        \u001b[49m\u001b[43mbuffered\u001b[49m\u001b[38;5;241;43m=\u001b[39;49m\u001b[43mbuffered\u001b[49m\u001b[43m,\u001b[49m\n\u001b[0;32m    637\u001b[0m \u001b[43m        \u001b[49m\u001b[43mraw_as_string\u001b[49m\u001b[38;5;241;43m=\u001b[39;49m\u001b[43mraw_as_string\u001b[49m\u001b[43m,\u001b[49m\n\u001b[0;32m    638\u001b[0m \u001b[43m        \u001b[49m\u001b[43mquery_attrs\u001b[49m\u001b[38;5;241;43m=\u001b[39;49m\u001b[38;5;28;43mself\u001b[39;49m\u001b[38;5;241;43m.\u001b[39;49m\u001b[43mquery_attrs\u001b[49m\u001b[43m,\u001b[49m\n\u001b[0;32m    639\u001b[0m \u001b[43m    \u001b[49m\u001b[43m)\u001b[49m\n\u001b[0;32m    640\u001b[0m \u001b[38;5;28;01mexcept\u001b[39;00m MySQLInterfaceError \u001b[38;5;28;01mas\u001b[39;00m err:\n",
      "\u001b[1;31mMySQLInterfaceError\u001b[0m: Table 'map_user' already exists",
      "\nThe above exception was the direct cause of the following exception:\n",
      "\u001b[1;31mProgrammingError\u001b[0m                          Traceback (most recent call last)",
      "Cell \u001b[1;32mIn[162], line 1\u001b[0m\n\u001b[1;32m----> 1\u001b[0m \u001b[43mmycursor\u001b[49m\u001b[38;5;241;43m.\u001b[39;49m\u001b[43mexecute\u001b[49m\u001b[43m(\u001b[49m\u001b[38;5;124;43m'\u001b[39;49m\u001b[38;5;124;43mcreate table map_user(State varchar(50),Year varchar(50),DisTrict_name varchar(50),Register_user varchar(50),AppOpens varchar(50))\u001b[39;49m\u001b[38;5;124;43m'\u001b[39;49m\u001b[43m)\u001b[49m\n",
      "File \u001b[1;32m~\\AppData\\Local\\Programs\\Python\\Python311\\Lib\\site-packages\\mysql\\connector\\cursor_cext.py:330\u001b[0m, in \u001b[0;36mCMySQLCursor.execute\u001b[1;34m(self, operation, params, multi)\u001b[0m\n\u001b[0;32m    325\u001b[0m             \u001b[38;5;28;01mraise\u001b[39;00m ProgrammingError(\n\u001b[0;32m    326\u001b[0m                 \u001b[38;5;124m\"\u001b[39m\u001b[38;5;124mNot all parameters were used in the SQL statement\u001b[39m\u001b[38;5;124m\"\u001b[39m\n\u001b[0;32m    327\u001b[0m             )\n\u001b[0;32m    329\u001b[0m \u001b[38;5;28;01mtry\u001b[39;00m:\n\u001b[1;32m--> 330\u001b[0m     result \u001b[38;5;241m=\u001b[39m \u001b[38;5;28;43mself\u001b[39;49m\u001b[38;5;241;43m.\u001b[39;49m\u001b[43m_cnx\u001b[49m\u001b[38;5;241;43m.\u001b[39;49m\u001b[43mcmd_query\u001b[49m\u001b[43m(\u001b[49m\n\u001b[0;32m    331\u001b[0m \u001b[43m        \u001b[49m\u001b[43mstmt\u001b[49m\u001b[43m,\u001b[49m\n\u001b[0;32m    332\u001b[0m \u001b[43m        \u001b[49m\u001b[43mraw\u001b[49m\u001b[38;5;241;43m=\u001b[39;49m\u001b[38;5;28;43mself\u001b[39;49m\u001b[38;5;241;43m.\u001b[39;49m\u001b[43m_raw\u001b[49m\u001b[43m,\u001b[49m\n\u001b[0;32m    333\u001b[0m \u001b[43m        \u001b[49m\u001b[43mbuffered\u001b[49m\u001b[38;5;241;43m=\u001b[39;49m\u001b[38;5;28;43mself\u001b[39;49m\u001b[38;5;241;43m.\u001b[39;49m\u001b[43m_buffered\u001b[49m\u001b[43m,\u001b[49m\n\u001b[0;32m    334\u001b[0m \u001b[43m        \u001b[49m\u001b[43mraw_as_string\u001b[49m\u001b[38;5;241;43m=\u001b[39;49m\u001b[38;5;28;43mself\u001b[39;49m\u001b[38;5;241;43m.\u001b[39;49m\u001b[43m_raw_as_string\u001b[49m\u001b[43m,\u001b[49m\n\u001b[0;32m    335\u001b[0m \u001b[43m    \u001b[49m\u001b[43m)\u001b[49m\n\u001b[0;32m    336\u001b[0m \u001b[38;5;28;01mexcept\u001b[39;00m MySQLInterfaceError \u001b[38;5;28;01mas\u001b[39;00m err:\n\u001b[0;32m    337\u001b[0m     \u001b[38;5;28;01mraise\u001b[39;00m get_mysql_exception(\n\u001b[0;32m    338\u001b[0m         msg\u001b[38;5;241m=\u001b[39merr\u001b[38;5;241m.\u001b[39mmsg, errno\u001b[38;5;241m=\u001b[39merr\u001b[38;5;241m.\u001b[39merrno, sqlstate\u001b[38;5;241m=\u001b[39merr\u001b[38;5;241m.\u001b[39msqlstate\n\u001b[0;32m    339\u001b[0m     ) \u001b[38;5;28;01mfrom\u001b[39;00m \u001b[38;5;21;01merr\u001b[39;00m\n",
      "File \u001b[1;32m~\\AppData\\Local\\Programs\\Python\\Python311\\Lib\\site-packages\\mysql\\connector\\opentelemetry\\context_propagation.py:77\u001b[0m, in \u001b[0;36mwith_context_propagation.<locals>.wrapper\u001b[1;34m(cnx, *args, **kwargs)\u001b[0m\n\u001b[0;32m     75\u001b[0m \u001b[38;5;250m\u001b[39m\u001b[38;5;124;03m\"\"\"Context propagation decorator.\"\"\"\u001b[39;00m\n\u001b[0;32m     76\u001b[0m \u001b[38;5;28;01mif\u001b[39;00m \u001b[38;5;129;01mnot\u001b[39;00m OTEL_ENABLED \u001b[38;5;129;01mor\u001b[39;00m \u001b[38;5;129;01mnot\u001b[39;00m cnx\u001b[38;5;241m.\u001b[39motel_context_propagation:\n\u001b[1;32m---> 77\u001b[0m     \u001b[38;5;28;01mreturn\u001b[39;00m \u001b[43mmethod\u001b[49m\u001b[43m(\u001b[49m\u001b[43mcnx\u001b[49m\u001b[43m,\u001b[49m\u001b[43m \u001b[49m\u001b[38;5;241;43m*\u001b[39;49m\u001b[43margs\u001b[49m\u001b[43m,\u001b[49m\u001b[43m \u001b[49m\u001b[38;5;241;43m*\u001b[39;49m\u001b[38;5;241;43m*\u001b[39;49m\u001b[43mkwargs\u001b[49m\u001b[43m)\u001b[49m\n\u001b[0;32m     79\u001b[0m current_span \u001b[38;5;241m=\u001b[39m trace\u001b[38;5;241m.\u001b[39mget_current_span()\n\u001b[0;32m     80\u001b[0m tp_header \u001b[38;5;241m=\u001b[39m \u001b[38;5;28;01mNone\u001b[39;00m\n",
      "File \u001b[1;32m~\\AppData\\Local\\Programs\\Python\\Python311\\Lib\\site-packages\\mysql\\connector\\connection_cext.py:641\u001b[0m, in \u001b[0;36mCMySQLConnection.cmd_query\u001b[1;34m(self, query, raw, buffered, raw_as_string)\u001b[0m\n\u001b[0;32m    633\u001b[0m     \u001b[38;5;28mself\u001b[39m\u001b[38;5;241m.\u001b[39m_cmysql\u001b[38;5;241m.\u001b[39mquery(\n\u001b[0;32m    634\u001b[0m         query,\n\u001b[0;32m    635\u001b[0m         raw\u001b[38;5;241m=\u001b[39mraw,\n\u001b[1;32m   (...)\u001b[0m\n\u001b[0;32m    638\u001b[0m         query_attrs\u001b[38;5;241m=\u001b[39m\u001b[38;5;28mself\u001b[39m\u001b[38;5;241m.\u001b[39mquery_attrs,\n\u001b[0;32m    639\u001b[0m     )\n\u001b[0;32m    640\u001b[0m \u001b[38;5;28;01mexcept\u001b[39;00m MySQLInterfaceError \u001b[38;5;28;01mas\u001b[39;00m err:\n\u001b[1;32m--> 641\u001b[0m     \u001b[38;5;28;01mraise\u001b[39;00m get_mysql_exception(\n\u001b[0;32m    642\u001b[0m         err\u001b[38;5;241m.\u001b[39merrno, msg\u001b[38;5;241m=\u001b[39merr\u001b[38;5;241m.\u001b[39mmsg, sqlstate\u001b[38;5;241m=\u001b[39merr\u001b[38;5;241m.\u001b[39msqlstate\n\u001b[0;32m    643\u001b[0m     ) \u001b[38;5;28;01mfrom\u001b[39;00m \u001b[38;5;21;01merr\u001b[39;00m\n\u001b[0;32m    644\u001b[0m \u001b[38;5;28;01mexcept\u001b[39;00m \u001b[38;5;167;01mAttributeError\u001b[39;00m \u001b[38;5;28;01mas\u001b[39;00m err:\n\u001b[0;32m    645\u001b[0m     addr \u001b[38;5;241m=\u001b[39m (\n\u001b[0;32m    646\u001b[0m         \u001b[38;5;28mself\u001b[39m\u001b[38;5;241m.\u001b[39m_unix_socket \u001b[38;5;28;01mif\u001b[39;00m \u001b[38;5;28mself\u001b[39m\u001b[38;5;241m.\u001b[39m_unix_socket \u001b[38;5;28;01melse\u001b[39;00m \u001b[38;5;124mf\u001b[39m\u001b[38;5;124m\"\u001b[39m\u001b[38;5;132;01m{\u001b[39;00m\u001b[38;5;28mself\u001b[39m\u001b[38;5;241m.\u001b[39m_host\u001b[38;5;132;01m}\u001b[39;00m\u001b[38;5;124m:\u001b[39m\u001b[38;5;132;01m{\u001b[39;00m\u001b[38;5;28mself\u001b[39m\u001b[38;5;241m.\u001b[39m_port\u001b[38;5;132;01m}\u001b[39;00m\u001b[38;5;124m\"\u001b[39m\n\u001b[0;32m    647\u001b[0m     )\n",
      "\u001b[1;31mProgrammingError\u001b[0m: 1050 (42S01): Table 'map_user' already exists"
     ]
    }
   ],
   "source": [
    "mycursor.execute('create table map_user(State varchar(50),Year varchar(50),District varchar(50),Register_user varchar(50),AppOpens varchar(50))')"
   ]
  },
  {
   "cell_type": "code",
   "execution_count": 163,
   "id": "586ada57",
   "metadata": {},
   "outputs": [],
   "source": [
    "for i,data in data_map_user.iterrows():\n",
    "    sql_insert = 'INSERT INTO map_user(State,Year,District,Register_user,AppOpens) VALUES(%s,%s,%s,%s,%s)'\n",
    "    mycursor.execute(sql_insert,tuple(data))\n",
    "    my_connection.commit()"
   ]
  },
  {
   "cell_type": "code",
   "execution_count": 164,
   "id": "a1fc04a8",
   "metadata": {},
   "outputs": [],
   "source": [
    "mycursor.execute('create table top_trans_district(State varchar(50),Year varchar(50),District varchar(50),Count varchar(50),Amount varchar(50))')"
   ]
  },
  {
   "cell_type": "code",
   "execution_count": 165,
   "id": "d1dac24e",
   "metadata": {},
   "outputs": [],
   "source": [
    "for i,data in data_top_trans_district.iterrows():\n",
    "    sql_insert = 'INSERT INTO top_trans_district(State,Year,District,Count,Amount) VALUES(%s,%s,%s,%s,%s)'\n",
    "    mycursor.execute(sql_insert,tuple(data))\n",
    "    my_connection.commit()\n",
    "    "
   ]
  },
  {
   "cell_type": "code",
   "execution_count": 166,
   "id": "97d13044",
   "metadata": {},
   "outputs": [],
   "source": [
    "mycursor.execute('create table top_trans_pincode(State varchar(50),Year varchar(50),District varchar(50),Count varchar(50),Amount varchar(50))')"
   ]
  },
  {
   "cell_type": "code",
   "execution_count": 168,
   "id": "daafe1ee",
   "metadata": {},
   "outputs": [],
   "source": [
    "for i,data in data_top_trans_pincode.iterrows():\n",
    "    sql_insert = 'INSERT INTO top_trans_pincode(State,Year,District,Count,Amount) VALUES(%s,%s,%s,%s,%s)'\n",
    "    mycursor.execute(sql_insert,tuple(data))\n",
    "    my_connection.commit()\n",
    "    "
   ]
  },
  {
   "cell_type": "code",
   "execution_count": 169,
   "id": "b2b32200",
   "metadata": {},
   "outputs": [],
   "source": [
    "mycursor.execute('create table top_user_district(State varchar(50), Year varchar(50), District varchar(50), RegisteredUser varchar(50))')"
   ]
  },
  {
   "cell_type": "code",
   "execution_count": 171,
   "id": "161874e5",
   "metadata": {},
   "outputs": [],
   "source": [
    "for i,data in data_top_user_district.iterrows():\n",
    "    sql_insert = 'INSERT INTO top_user_district(State,Year,District,RegisteredUser) VALUES(%s,%s,%s,%s)'\n",
    "    mycursor.execute(sql_insert,tuple(data))\n",
    "    my_connection.commit()\n"
   ]
  },
  {
   "cell_type": "code",
   "execution_count": 172,
   "id": "190c46f3",
   "metadata": {},
   "outputs": [],
   "source": [
    "mycursor.execute('create table top_user_pincode(State varchar(50), Year varchar(50), Pincode varchar(50), RegisteredUser varchar(50))')"
   ]
  },
  {
   "cell_type": "code",
   "execution_count": 174,
   "id": "b4e9a5a7",
   "metadata": {},
   "outputs": [],
   "source": [
    "for i,data in data_top_user_pincode.iterrows():\n",
    "    sql_insert = 'INSERT INTO top_user_pincode(State,Year,Pincode,RegisteredUser) VALUES(%s,%s,%s,%s)'\n",
    "    mycursor.execute(sql_insert,tuple(data))\n",
    "    my_connection.commit()"
   ]
  },
  {
   "cell_type": "code",
   "execution_count": 183,
   "id": "4bc58402",
   "metadata": {},
   "outputs": [
    {
     "data": {
      "text/plain": [
       "[('aggregated_transaction',),\n",
       " ('aggregated_user',),\n",
       " ('map_transaction',),\n",
       " ('map_user',),\n",
       " ('top_trans_district',),\n",
       " ('top_trans_pincode',),\n",
       " ('top_user_district',),\n",
       " ('top_user_pincode',)]"
      ]
     },
     "execution_count": 183,
     "metadata": {},
     "output_type": "execute_result"
    }
   ],
   "source": [
    "row = mycursor.fetchall()\n",
    "row"
   ]
  },
  {
   "cell_type": "code",
   "execution_count": 78,
   "id": "faab868f",
   "metadata": {},
   "outputs": [
    {
     "data": {
      "text/html": [
       "<div>\n",
       "<style scoped>\n",
       "    .dataframe tbody tr th:only-of-type {\n",
       "        vertical-align: middle;\n",
       "    }\n",
       "\n",
       "    .dataframe tbody tr th {\n",
       "        vertical-align: top;\n",
       "    }\n",
       "\n",
       "    .dataframe thead th {\n",
       "        text-align: right;\n",
       "    }\n",
       "</style>\n",
       "<table border=\"1\" class=\"dataframe\">\n",
       "  <thead>\n",
       "    <tr style=\"text-align: right;\">\n",
       "      <th></th>\n",
       "      <th>State</th>\n",
       "      <th>LocationCode</th>\n",
       "      <th>Count</th>\n",
       "      <th>Amount</th>\n",
       "    </tr>\n",
       "  </thead>\n",
       "  <tbody>\n",
       "    <tr>\n",
       "      <th>0</th>\n",
       "      <td>andaman-&amp;-nicobar-islands</td>\n",
       "      <td>0</td>\n",
       "      <td>7747331</td>\n",
       "      <td>18994709086</td>\n",
       "    </tr>\n",
       "    <tr>\n",
       "      <th>1</th>\n",
       "      <td>andhra-pradesh</td>\n",
       "      <td>35</td>\n",
       "      <td>5321987775</td>\n",
       "      <td>11584751709187</td>\n",
       "    </tr>\n",
       "    <tr>\n",
       "      <th>2</th>\n",
       "      <td>arunachal-pradesh</td>\n",
       "      <td>28</td>\n",
       "      <td>27274484</td>\n",
       "      <td>70543242969</td>\n",
       "    </tr>\n",
       "    <tr>\n",
       "      <th>3</th>\n",
       "      <td>assam</td>\n",
       "      <td>12</td>\n",
       "      <td>528422472</td>\n",
       "      <td>1100828258045</td>\n",
       "    </tr>\n",
       "    <tr>\n",
       "      <th>4</th>\n",
       "      <td>bihar</td>\n",
       "      <td>18</td>\n",
       "      <td>2745429444</td>\n",
       "      <td>5649345088706</td>\n",
       "    </tr>\n",
       "    <tr>\n",
       "      <th>5</th>\n",
       "      <td>chandigarh</td>\n",
       "      <td>10</td>\n",
       "      <td>90820816</td>\n",
       "      <td>160799555158</td>\n",
       "    </tr>\n",
       "    <tr>\n",
       "      <th>6</th>\n",
       "      <td>chhattisgarh</td>\n",
       "      <td>22</td>\n",
       "      <td>941074354</td>\n",
       "      <td>1468349999500</td>\n",
       "    </tr>\n",
       "    <tr>\n",
       "      <th>7</th>\n",
       "      <td>dadra-&amp;-nagar-haveli-&amp;-daman-&amp;-diu</td>\n",
       "      <td>25</td>\n",
       "      <td>43966520</td>\n",
       "      <td>57343059311</td>\n",
       "    </tr>\n",
       "    <tr>\n",
       "      <th>8</th>\n",
       "      <td>delhi</td>\n",
       "      <td>30</td>\n",
       "      <td>3274904754</td>\n",
       "      <td>5111844076155</td>\n",
       "    </tr>\n",
       "    <tr>\n",
       "      <th>9</th>\n",
       "      <td>goa</td>\n",
       "      <td>24</td>\n",
       "      <td>98849639</td>\n",
       "      <td>160566288631</td>\n",
       "    </tr>\n",
       "    <tr>\n",
       "      <th>10</th>\n",
       "      <td>gujarat</td>\n",
       "      <td>6</td>\n",
       "      <td>2052224247</td>\n",
       "      <td>3625037788890</td>\n",
       "    </tr>\n",
       "    <tr>\n",
       "      <th>11</th>\n",
       "      <td>haryana</td>\n",
       "      <td>2</td>\n",
       "      <td>1870596824</td>\n",
       "      <td>3264982489119</td>\n",
       "    </tr>\n",
       "    <tr>\n",
       "      <th>12</th>\n",
       "      <td>himachal-pradesh</td>\n",
       "      <td>1</td>\n",
       "      <td>170818031</td>\n",
       "      <td>284699619220</td>\n",
       "    </tr>\n",
       "    <tr>\n",
       "      <th>13</th>\n",
       "      <td>jammu-&amp;-kashmir</td>\n",
       "      <td>20</td>\n",
       "      <td>164904607</td>\n",
       "      <td>344701121864</td>\n",
       "    </tr>\n",
       "    <tr>\n",
       "      <th>14</th>\n",
       "      <td>jharkhand</td>\n",
       "      <td>29</td>\n",
       "      <td>1008027640</td>\n",
       "      <td>1706199321996</td>\n",
       "    </tr>\n",
       "    <tr>\n",
       "      <th>15</th>\n",
       "      <td>karnataka</td>\n",
       "      <td>32</td>\n",
       "      <td>9570042576</td>\n",
       "      <td>13874332400299</td>\n",
       "    </tr>\n",
       "    <tr>\n",
       "      <th>16</th>\n",
       "      <td>kerala</td>\n",
       "      <td>31</td>\n",
       "      <td>822459542</td>\n",
       "      <td>1228493669465</td>\n",
       "    </tr>\n",
       "    <tr>\n",
       "      <th>17</th>\n",
       "      <td>ladakh</td>\n",
       "      <td>23</td>\n",
       "      <td>7123601</td>\n",
       "      <td>23042534353</td>\n",
       "    </tr>\n",
       "    <tr>\n",
       "      <th>18</th>\n",
       "      <td>lakshadweep</td>\n",
       "      <td>27</td>\n",
       "      <td>166804</td>\n",
       "      <td>495222951</td>\n",
       "    </tr>\n",
       "    <tr>\n",
       "      <th>19</th>\n",
       "      <td>madhya-pradesh</td>\n",
       "      <td>14</td>\n",
       "      <td>4463695860</td>\n",
       "      <td>7026999292814</td>\n",
       "    </tr>\n",
       "    <tr>\n",
       "      <th>20</th>\n",
       "      <td>maharashtra</td>\n",
       "      <td>4</td>\n",
       "      <td>10389479956</td>\n",
       "      <td>14771332714776</td>\n",
       "    </tr>\n",
       "    <tr>\n",
       "      <th>21</th>\n",
       "      <td>manipur</td>\n",
       "      <td>34</td>\n",
       "      <td>45147601</td>\n",
       "      <td>118933382882</td>\n",
       "    </tr>\n",
       "    <tr>\n",
       "      <th>22</th>\n",
       "      <td>meghalaya</td>\n",
       "      <td>3</td>\n",
       "      <td>20197849</td>\n",
       "      <td>47703059453</td>\n",
       "    </tr>\n",
       "    <tr>\n",
       "      <th>23</th>\n",
       "      <td>mizoram</td>\n",
       "      <td>8</td>\n",
       "      <td>5796340</td>\n",
       "      <td>17494078054</td>\n",
       "    </tr>\n",
       "    <tr>\n",
       "      <th>24</th>\n",
       "      <td>nagaland</td>\n",
       "      <td>11</td>\n",
       "      <td>17180851</td>\n",
       "      <td>48933677248</td>\n",
       "    </tr>\n",
       "    <tr>\n",
       "      <th>25</th>\n",
       "      <td>odisha</td>\n",
       "      <td>33</td>\n",
       "      <td>2561254352</td>\n",
       "      <td>4087671271594</td>\n",
       "    </tr>\n",
       "    <tr>\n",
       "      <th>26</th>\n",
       "      <td>puducherry</td>\n",
       "      <td>16</td>\n",
       "      <td>59384639</td>\n",
       "      <td>99110061596</td>\n",
       "    </tr>\n",
       "    <tr>\n",
       "      <th>27</th>\n",
       "      <td>punjab</td>\n",
       "      <td>9</td>\n",
       "      <td>582273955</td>\n",
       "      <td>1164042246844</td>\n",
       "    </tr>\n",
       "    <tr>\n",
       "      <th>28</th>\n",
       "      <td>rajasthan</td>\n",
       "      <td>5</td>\n",
       "      <td>5130073858</td>\n",
       "      <td>9110359753665</td>\n",
       "    </tr>\n",
       "    <tr>\n",
       "      <th>29</th>\n",
       "      <td>sikkim</td>\n",
       "      <td>19</td>\n",
       "      <td>18750367</td>\n",
       "      <td>42941467442</td>\n",
       "    </tr>\n",
       "    <tr>\n",
       "      <th>30</th>\n",
       "      <td>tamil-nadu</td>\n",
       "      <td>21</td>\n",
       "      <td>2742806151</td>\n",
       "      <td>4700872137057</td>\n",
       "    </tr>\n",
       "    <tr>\n",
       "      <th>31</th>\n",
       "      <td>telangana</td>\n",
       "      <td>26</td>\n",
       "      <td>9143814959</td>\n",
       "      <td>16522924338545</td>\n",
       "    </tr>\n",
       "    <tr>\n",
       "      <th>32</th>\n",
       "      <td>tripura</td>\n",
       "      <td>17</td>\n",
       "      <td>32364668</td>\n",
       "      <td>63058503423</td>\n",
       "    </tr>\n",
       "    <tr>\n",
       "      <th>33</th>\n",
       "      <td>uttar-pradesh</td>\n",
       "      <td>15</td>\n",
       "      <td>4636625871</td>\n",
       "      <td>8179116124944</td>\n",
       "    </tr>\n",
       "    <tr>\n",
       "      <th>34</th>\n",
       "      <td>uttarakhand</td>\n",
       "      <td>13</td>\n",
       "      <td>440122775</td>\n",
       "      <td>699176537087</td>\n",
       "    </tr>\n",
       "    <tr>\n",
       "      <th>35</th>\n",
       "      <td>west-bengal</td>\n",
       "      <td>7</td>\n",
       "      <td>2687915807</td>\n",
       "      <td>4969909303386</td>\n",
       "    </tr>\n",
       "  </tbody>\n",
       "</table>\n",
       "</div>"
      ],
      "text/plain": [
       "                                 State  LocationCode        Count  \\\n",
       "0            andaman-&-nicobar-islands             0      7747331   \n",
       "1                       andhra-pradesh            35   5321987775   \n",
       "2                    arunachal-pradesh            28     27274484   \n",
       "3                                assam            12    528422472   \n",
       "4                                bihar            18   2745429444   \n",
       "5                           chandigarh            10     90820816   \n",
       "6                         chhattisgarh            22    941074354   \n",
       "7   dadra-&-nagar-haveli-&-daman-&-diu            25     43966520   \n",
       "8                                delhi            30   3274904754   \n",
       "9                                  goa            24     98849639   \n",
       "10                             gujarat             6   2052224247   \n",
       "11                             haryana             2   1870596824   \n",
       "12                    himachal-pradesh             1    170818031   \n",
       "13                     jammu-&-kashmir            20    164904607   \n",
       "14                           jharkhand            29   1008027640   \n",
       "15                           karnataka            32   9570042576   \n",
       "16                              kerala            31    822459542   \n",
       "17                              ladakh            23      7123601   \n",
       "18                         lakshadweep            27       166804   \n",
       "19                      madhya-pradesh            14   4463695860   \n",
       "20                         maharashtra             4  10389479956   \n",
       "21                             manipur            34     45147601   \n",
       "22                           meghalaya             3     20197849   \n",
       "23                             mizoram             8      5796340   \n",
       "24                            nagaland            11     17180851   \n",
       "25                              odisha            33   2561254352   \n",
       "26                          puducherry            16     59384639   \n",
       "27                              punjab             9    582273955   \n",
       "28                           rajasthan             5   5130073858   \n",
       "29                              sikkim            19     18750367   \n",
       "30                          tamil-nadu            21   2742806151   \n",
       "31                           telangana            26   9143814959   \n",
       "32                             tripura            17     32364668   \n",
       "33                       uttar-pradesh            15   4636625871   \n",
       "34                         uttarakhand            13    440122775   \n",
       "35                         west-bengal             7   2687915807   \n",
       "\n",
       "            Amount  \n",
       "0      18994709086  \n",
       "1   11584751709187  \n",
       "2      70543242969  \n",
       "3    1100828258045  \n",
       "4    5649345088706  \n",
       "5     160799555158  \n",
       "6    1468349999500  \n",
       "7      57343059311  \n",
       "8    5111844076155  \n",
       "9     160566288631  \n",
       "10   3625037788890  \n",
       "11   3264982489119  \n",
       "12    284699619220  \n",
       "13    344701121864  \n",
       "14   1706199321996  \n",
       "15  13874332400299  \n",
       "16   1228493669465  \n",
       "17     23042534353  \n",
       "18       495222951  \n",
       "19   7026999292814  \n",
       "20  14771332714776  \n",
       "21    118933382882  \n",
       "22     47703059453  \n",
       "23     17494078054  \n",
       "24     48933677248  \n",
       "25   4087671271594  \n",
       "26     99110061596  \n",
       "27   1164042246844  \n",
       "28   9110359753665  \n",
       "29     42941467442  \n",
       "30   4700872137057  \n",
       "31  16522924338545  \n",
       "32     63058503423  \n",
       "33   8179116124944  \n",
       "34    699176537087  \n",
       "35   4969909303386  "
      ]
     },
     "execution_count": 78,
     "metadata": {},
     "output_type": "execute_result"
    }
   ],
   "source": [
    "mycursor.execute(\"SELECT State, SUM(Count) AS Count, SUM(Amount) AS Amount FROM map_transaction WHERE Year GROUP BY State ORDER BY State\")\n",
    "datas = mycursor.fetchall()\n",
    "district = []\n",
    "counts = []\n",
    "amounts = []\n",
    "for data in datas:\n",
    "    district.append(data[0])\n",
    "    counts.append(int(data[1]))\n",
    "    amounts.append(int(data[2]))\n",
    "with open(\"data/states_india.geojson\") as geojson_file:\n",
    "    geojson_data = json.load(geojson_file)\n",
    "code =[]\n",
    "for feature in geojson_data['features']:\n",
    "    code.append(feature['properties']['state_code'])\n",
    "# print(code)\n",
    "\n",
    "location_df = pd.DataFrame({\"State\": district,\"LocationCode\" : code})\n",
    "location_df\n",
    "merged_data = pd.merge(location_df, pd.DataFrame({\"State\": district, \"Count\": counts, \"Amount\": amounts}), on=\"State\")\n",
    "merged_data"
   ]
  }
 ],
 "metadata": {
  "kernelspec": {
   "display_name": "Python 3 (ipykernel)",
   "language": "python",
   "name": "python3"
  },
  "language_info": {
   "codemirror_mode": {
    "name": "ipython",
    "version": 3
   },
   "file_extension": ".py",
   "mimetype": "text/x-python",
   "name": "python",
   "nbconvert_exporter": "python",
   "pygments_lexer": "ipython3",
   "version": "3.11.4"
  }
 },
 "nbformat": 4,
 "nbformat_minor": 5
}
